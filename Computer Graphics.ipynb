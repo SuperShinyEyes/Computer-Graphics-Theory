{
 "cells": [
  {
   "cell_type": "markdown",
   "metadata": {
    "toc-hr-collapsed": false
   },
   "source": [
    "## Complexity of Rendering\n",
    "- Geometry\n",
    "- Shading\n",
    "- Visibility\n",
    "\n",
    "## Rendering\n",
    "**Rendering** refers to the entire process that produces color values for pixels. \n",
    "- Compute what's visible. \n",
    "- Compute what color it is:\n",
    "    - Determined by interaction of light and matter\n",
    "    \n",
    "### $\\text{Rendering} = \\text{Scene to image} = \\text{Pinhole camera}$\n",
    "![scene_to_image](images/scene_to_image.png)\n",
    "\n",
    "### Pinhole camera\n",
    "- Box with a tiny hole\n",
    "- Inverted image\n",
    "- Similar triangles\n",
    "- **Perfect image if hole is infinitely small**\n",
    "- Pure geometric optics\n",
    "- **No depth of field issue**(everything in focus)\n",
    "![pinhole](images/pinhole.jpg)\n",
    "\n",
    "## Shading = What surfaces look like\n",
    "- Surface/Scene properties:\n",
    "    - Surface normal\n",
    "    - Direction to light\n",
    "    - Viewpoint\n",
    "- Material Properties\n",
    "    - Diffuse (matte)\n",
    "    - Specular (shiny)\n",
    "    - ...\n",
    "- Light properties\n",
    "    - Position\n",
    "    - Intensity\n",
    "    - ...\n",
    "- Much more!\n",
    "![shading_surface](images/shading_surface.png)\n",
    "\n",
    "### Image synthesis is radiative transport\n",
    "$$\n",
    "\\begin{aligned} \\omega \\cdot \\nabla_{x} L(x, \\omega)=& \\epsilon(x, \\omega) \\\\ &-\\sigma_{t}(x) L(x, \\omega) \\\\ &+\\sigma_{s}(x) \\int_{4 \\pi} p\\left(x, \\omega, \\omega^{\\prime}\\right) L\\left(x, \\omega^{\\prime}\\right) \\mathrm{d} \\omega^{\\prime} \\end{aligned}\n",
    "$$\n",
    "\n",
    "### Global Illumination\n",
    "![illumination](images/illumination.png)"
   ]
  },
  {
   "cell_type": "markdown",
   "metadata": {},
   "source": [
    "### Ray casting vs. Rasterization\n",
    "![ray_casting_rasterizaion](images/ray_casting_rasterizaion.jpeg)\n",
    "\n",
    "### Ray casting vs. Ray tracing\n",
    "![ray_casting_tracing](images/ray_casting_tracing.png)"
   ]
  },
  {
   "cell_type": "markdown",
   "metadata": {},
   "source": [
    "### Ray representation\n",
    "- Two vectors: *Origin* and *Direction*\n",
    "- Parametric line: $P(t) = \\text{origin} + t \\times \\text{direction}$\n",
    "    - In words, \"Find smallest $t>0$ such that $P(t)$ lies on a surface in the scene.\"\n",
    "    \n",
    "![ray_representation](images/ray_representation.png)\n",
    "\n",
    "### Ray tracing\n",
    "- Advantages:\n",
    "    - Generality: can render anythinig that can be intersected with a ray\n",
    "    - **Easily allows recursion (shadows, reflections, etc.)**\n",
    "- Disadvantages:\n",
    "    - Harder to implement in hardware(less computation coherence, must fit entire scene in memory, worse memory behavior)"
   ]
  },
  {
   "cell_type": "markdown",
   "metadata": {},
   "source": [
    "### Camera description\n",
    "- Eye point $e$ (center)\n",
    "- Orthobasis $u, v, w$ (horizontal, up, direction)\n",
    "\n",
    "Different coordinate systems are used in a pipeline:\n",
    "1. Object coordinates\n",
    "2. World coordinates\n",
    "3. View coordinates\n",
    "4. Image coordinates\n",
    "![view_frustum](images/view_frustum.jpeg)\n",
    "\n",
    "### Image coordinates\n",
    "Convenient to define \"Normalized Image Coordinates\" such that $x, y$ coordinates run from -1 to 1 regardless of the dimensions and aspect ratio of the image rectangle.\n",
    "\n",
    "![nic](images/nic.jpeg)\n",
    "\n",
    "### Ray generation in 2D\n",
    "![ray_generation_2d](images/ray_generation_2d.jpeg)\n",
    "\n",
    "### Ray generation in 3D\n",
    "Similar to 2D. $y$ coordinate is treated just like $x$, except accounting for aspect ratio:\n",
    "$$\n",
    "\\mathbf{r}=\\mathrm{x} \\cdot \\mathbf{u}+\\operatorname{aspect} \\cdot \\mathrm{y} \\cdot \\mathbf{v}+\\mathrm{d} \\cdot \\mathbf{w}\n",
    "$$\n",
    "\n",
    "### Perspective vs. orthographic camera\n",
    "Orthographic is parallel projection with neither foreshortening nor vanishing point.\n",
    "![perspective_orthographic](images/perspective_orthographic.png)\n",
    "\n",
    "\n",
    "Ray generation in orthographic:\n",
    "- Origin = $\\mathbf{e}+\\mathrm{x} \\cdot \\mathrm{size} \\cdot \\mathbf{u}+\\mathrm{y} \\cdot \\mathrm{size} \\cdot \\mathbf{v}$\n",
    "- Direction is constant: $\\mathbf{w}$\n",
    "\n",
    "![orthographic](images/orthographic.png)"
   ]
  },
  {
   "cell_type": "markdown",
   "metadata": {},
   "source": [
    "### 3D plane representation\n",
    "- (Infinite) plane is defined by $\\mathrm{P}_{\\mathrm{o}}=\\left(\\mathrm{x}_{0}, \\mathrm{y}_{0}, \\mathrm{Z}_{0}\\right)$ and $\\mathrm{n}=(\\mathrm{A}, \\mathrm{B}, \\mathrm{C})$.\n",
    "- Implicit plane equation: \n",
    "$$\n",
    "\\begin{aligned} \\mathrm{H}(\\mathrm{P}) &=\\mathrm{Ax}+\\mathrm{By}+\\mathrm{Cz}+\\mathrm{D}=0 \\\\ &=\\mathrm{n} \\cdot \\mathrm{P}+\\mathrm{D}=0 \\end{aligned}\n",
    "$$\n",
    "\n",
    "- Point-Plane distance?\n",
    "    - If $n$ is normalized, distance to plane, $d = \\mathrm{H}(\\mathrm{P})$\n",
    "    - $d$ is a **signed distance**!\n",
    "\n",
    "![3d_plane_representation](images/3d_plane_representation.jpeg)\n",
    "\n",
    "\n",
    "### Explicit vs. Implicit\n",
    "- Ray equation is explicit: $\\mathrm{P}(\\mathrm{t})=\\mathrm{R}_{\\mathrm{o}}+\\mathrm{t} \\times \\mathrm{R}_{\\mathrm{d}}$\n",
    "    - Parametric\n",
    "    - Generates points\n",
    "    - Hard to verify that a point is on the ray\n",
    "    \n",
    "- Plane equation is implicit: $\\mathrm{H}(\\mathrm{P})=\\mathrm{n} \\cdot \\mathrm{P}+\\mathrm{D}=0$\n",
    "    - Solution of an equation\n",
    "    - Does not generate points\n",
    "    - Verifies that a point is on the plane"
   ]
  },
  {
   "cell_type": "markdown",
   "metadata": {
    "toc-hr-collapsed": true
   },
   "source": [
    "---------\n",
    "## Intersections"
   ]
  },
  {
   "cell_type": "markdown",
   "metadata": {
    "toc-hr-collapsed": false
   },
   "source": [
    "### Intersection: Ray-Plane\n",
    "Intersection means both equations are satisfied. Hence, insert explicit equation of ray into implicit equation of plane, and solve for $t$\n",
    "\n",
    "$$\n",
    "\\begin{array}{l}{\\mathrm{P}(\\mathrm{t})=\\mathrm{R}_{\\mathrm{o}}+\\mathrm{t} \\times \\mathrm{R}_{\\mathrm{d}}} \\\\ {\\mathrm{H}(\\mathrm{P})=\\mathrm{n} \\cdot \\mathrm{P}+\\mathrm{D}=0} \\\\ {\\mathrm{n} \\cdot\\left(\\mathrm{R}_{\\mathrm{o}}+\\mathrm{t} \\times \\mathrm{R}_{\\mathrm{d}}\\right)+\\mathrm{D}=0} \\\\ {\\mathrm{t}=-\\left(\\mathrm{D}+\\mathrm{n} \\cdot \\mathrm{R}_{\\mathrm{o}}\\right) / \\mathrm{n} \\cdot \\mathrm{R}_{\\mathrm{d}}}\\end{array}\n",
    "$$\n",
    "\n",
    "![ray_plane_intersection](images/ray_plane_intersection.jpeg)\n",
    "\n",
    "You can verify that,\n",
    "- intersection is closer than previous: $\\mathrm{P}(\\mathrm{t})<\\mathrm{t}_{\\text { current }}$\n",
    "- it is not out of range(behind eye): $\\mathrm{P}(\\mathrm{t})>\\mathrm{t}_{\\mathrm{min}}$"
   ]
  },
  {
   "cell_type": "markdown",
   "metadata": {
    "toc-hr-collapsed": false
   },
   "source": [
    "#### Normal \n",
    "Need surface normal for shading. (e.g. Diffuse: dot product between light direction and normal, clamp to zero). Also, normal is constant over a plane.\n",
    "\n",
    "\n",
    "#### Math digression\n",
    "- Duality points and planes are \"dual\" when you use homogenous coordinates\n",
    "- Point $(x, y, z, 1)$\n",
    "- Plane $(A, B, C, D)$\n",
    "- Plane equation $\\Rightarrow$ dot product\n",
    "- You can map planes to points and points to planes in a dual space.\n",
    "- Lots of cool equivalences\n",
    "    - intersection of 3 planes define a point\n",
    "    - 3 points define a plane!"
   ]
  },
  {
   "cell_type": "markdown",
   "metadata": {
    "toc-hr-collapsed": false
   },
   "source": [
    "### Intersection: Ray-Sphere \n",
    "- Implicit sphere equation: $\\mathrm{H}(\\mathrm{P})=\\|\\mathrm{P}\\|^{2}-\\mathrm{r}^{2}=\\mathrm{P} \\cdot \\mathrm{P}-\\mathrm{r}^{2}=0$\n",
    "- Insert explicit equation of ray into implicit equation of sphere and solve for $t$: \n",
    "    - $\\mathrm{P}(\\mathrm{t})=\\mathrm{R}_{\\mathrm{o}}+\\mathrm{t}^{*} \\mathrm{R}_{\\mathrm{d}} \\quad ; \\quad \\mathrm{H}(\\mathrm{P})=\\mathrm{P} \\cdot \\mathrm{P}-\\mathrm{r}^{2}=0$\n",
    "    - $\\left(\\mathrm{R}_{\\mathrm{o}}+\\mathrm{tR}_{\\mathrm{d}}\\right) \\cdot\\left(\\mathrm{R}_{\\mathrm{o}}+\\mathrm{tR}_{\\mathrm{d}}\\right)-\\mathrm{r}^{2}=0$\n",
    "    - $\\mathrm{R}_{\\mathrm{d}} \\cdot \\mathrm{R}_{\\mathrm{d}} \\mathrm{t}^{2}+2 \\mathrm{R}_{\\mathrm{d}} \\cdot \\mathrm{R}_{\\mathrm{o}} \\mathrm{t}+\\mathrm{R}_{\\mathrm{o}} \\cdot \\mathrm{R}_{\\mathrm{o}}-\\mathrm{r}^{2}=0$\n",
    "\n",
    "![ray-sphere](images/ray-sphere.png)\n",
    "\n",
    "- It's a quatratic equation: $a t^{2}+b t+c=0$\n",
    "\n",
    "$$\n",
    "\\begin{array}{l}{\\mathrm{a}=\\mathrm{R}_{\\mathrm{d}} \\cdot \\mathrm{R}_{\\mathrm{d}}} \\\\ {\\mathrm{b}=2 \\mathrm{R}_{\\mathrm{d}} \\cdot \\mathrm{R}_{\\mathrm{o}}} \\\\ {\\mathrm{c}=\\mathrm{R}_{\\mathrm{o}} \\cdot \\mathrm{R}_{\\mathrm{o}}-\\mathrm{r}^{2}}\\end{array}\n",
    "$$\n",
    "\n",
    "- discriminant: $d=\\sqrt{b^{2}-4 a c}$\n",
    "- solutions: $t=\\frac{-b \\pm d}{2 a}$\n",
    "    - Choose closest positive\n",
    "    \n",
    "- Sphere normal is simply $\\mathrm{Q} /\\|\\mathrm{Q}\\|$, where $\\mathrm{Q}=\\mathrm{P}(\\mathrm{t})$ is an intersection point (for spheres centered at origin).\n",
    "\n",
    "\n",
    "![sphere_normal](images/sphere_normal.png)"
   ]
  },
  {
   "cell_type": "markdown",
   "metadata": {
    "toc-hr-collapsed": false
   },
   "source": [
    "### Intersection: Ray-triangle  \n",
    "You can either use\n",
    "- ray-plane intersection followed by in-triangle test, or\n",
    "- **barycentric  coordinates**"
   ]
  },
  {
   "cell_type": "markdown",
   "metadata": {
    "toc-hr-collapsed": false
   },
   "source": [
    "#### Barycentric definition of a plane\n",
    "A non-degenerate triangle ($a,b,c$) defines a plane. Any point $\\mathbf{P}$ on this plane can be written as $\\mathbf{P}(\\alpha, \\beta, \\gamma)=\\alpha \\mathbf{a}+\\beta \\mathbf{b}+\\gamma \\mathbf{c}$, where $\\alpha+\\beta+\\gamma=1$\n",
    "\n",
    "![barycentric1](images/barycentric1.png)\n",
    "\n",
    "Hence, $\\alpha, \\beta, \\gamma$ are barycentric coordinates. We can rewrite $\\mathbf{P}$ by substituting $\\alpha=1-\\beta-\\gamma$.\n",
    "\n",
    "$$\n",
    "\\begin{aligned} \\mathbf{P}(\\alpha, \\beta, \\gamma) &=\\alpha \\mathbf{a}+\\beta \\mathbf{b}+\\gamma \\mathbf{c} \\\\ \\mathbf{P}(\\beta, \\gamma) &=(1-\\beta-\\gamma) \\mathbf{a}+\\beta \\mathbf{b}+\\gamma \\mathbf{c} \\\\ &=\\mathbf{a}+\\beta(\\mathbf{b}-\\mathbf{a})+\\gamma(\\mathbf{c}-\\mathbf{a}) \\end{aligned}\n",
    "$$\n",
    "\n",
    "So $\\mathbf{P}$ is the **barycenter**, the point upon which the triangle would balance if weights of size $\\alpha, \\beta, \\gamma$ are placed on points $\\mathbf{a}, \\mathbf{b}, \\mathbf{c}$."
   ]
  },
  {
   "cell_type": "markdown",
   "metadata": {
    "toc-hr-collapsed": false
   },
   "source": [
    "#### How to compute $\\alpha, \\beta, \\gamma$?\n",
    "They are the ratio of opposite sub-triangle area to total area:\n",
    "$$\\alpha=\\mathrm{A}_{\\mathrm{a}} / \\mathrm{A} \\quad \\beta=\\mathrm{A}_{\\mathrm{b}} / \\mathrm{A} \\quad \\gamma=\\mathrm{A}_{\\mathrm{c}} / \\mathrm{A}$$\n",
    "\n",
    "![barycentric2](images/barycentric2.png)"
   ]
  },
  {
   "cell_type": "markdown",
   "metadata": {
    "toc-hr-collapsed": false
   },
   "source": [
    "#### How to compute $\\alpha, \\beta, \\gamma$? Use linear system!\n",
    "Write $\\mathbf{P}$ as a 2x2 linear system; $\\mathbf{P}(\\beta, \\gamma)=\\mathbf{a}+\\beta \\mathbf{e}_{1}+\\gamma \\mathbf{e}_{2}$, where $\\mathbf{e}_{1}=(\\mathbf{b}-\\mathbf{a})$, $\\mathbf{e}_{2}=(\\mathbf{c}-\\mathbf{a})$. \n",
    "\n",
    "So, $a+\\beta e_{1}+\\gamma e_{2}-P=0$ **should be zero**. Take inner products of this equation with $\\mathbf{e}_{1}$ and $\\mathbf{e}_{2}$.\n",
    "\n",
    "$$\n",
    "\\begin{array}{l}{\\left\\langle e_{1}, a+\\beta e_{1}+\\gamma e_{2}-P\\right\\rangle= 0} \\\\ {\\left\\langle e_{2}, a+\\beta e_{1}+\\gamma e_{2}-P\\right\\rangle= 0}\\end{array}\n",
    "$$\n",
    "\n",
    "which is equivalent to\n",
    "\n",
    "$$\n",
    "\\left( \\begin{array}{cc}{\\left\\langle\\boldsymbol{e}_{1}, \\boldsymbol{e}_{1}\\right\\rangle} & {\\left\\langle\\boldsymbol{e}_{1}, \\boldsymbol{e}_{2}\\right\\rangle} \\\\ {\\left\\langle\\boldsymbol{e}_{2}, \\boldsymbol{e}_{1}\\right\\rangle} & {\\left\\langle\\boldsymbol{e}_{2}, \\boldsymbol{e}_{2}\\right\\rangle}\\end{array}\\right) \\left( \\begin{array}{l}{\\beta} \\\\ {\\gamma}\\end{array}\\right)=\\left( \\begin{array}{c}{ c_{1}} \\\\ {c_{2}}\\end{array}\\right)\n",
    "$$\n",
    "\n",
    "where\n",
    "\n",
    "$$\n",
    "\\left( \\begin{array}{l}{c_{1}} \\\\ {c_{2}}\\end{array}\\right)=\\left( \\begin{array}{l}{\\left\\langle(\\boldsymbol{P}-\\boldsymbol{a}), \\boldsymbol{e}_{1}\\right\\rangle} \\\\ {\\left\\langle(\\boldsymbol{P}-\\boldsymbol{a}), \\boldsymbol{e}_{2}\\right\\rangle}\\end{array}\\right)\n",
    "$$\n",
    "\n",
    "and $\\left\\langle a, b\\right\\rangle$ is a dot product"
   ]
  },
  {
   "cell_type": "markdown",
   "metadata": {
    "toc-hr-collapsed": false
   },
   "source": [
    "#### Intersections with barycentric triangle\n",
    "Set ray equation equal to barycentric equation:\n",
    "\n",
    "$$\n",
    "\\begin{aligned} \\mathbf{P}(\\mathrm{t}) &=\\mathbf{P}(\\beta, \\gamma) \\\\ \\mathbf{R}_{\\mathrm{o}}+\\mathrm{t} * \\mathbf{R}_{\\mathrm{d}} &=\\mathbf{a}+\\beta(\\mathbf{b}-\\mathbf{a})+\\gamma(\\mathbf{c}-\\mathbf{a}) \\end{aligned}\n",
    "$$\n",
    "\n",
    "There is an intersection if $\\beta+\\gamma<1$ & $\\beta>0$ & $\\gamma>0$ and $t > t_{min} ...$\n",
    "\n",
    "We have 3 variables with 3 equations:\n",
    "\n",
    "$$\n",
    "\\begin{array}{l}{\\mathrm{R}_{\\mathrm{ox}}+\\mathrm{tR}_{\\mathrm{dx}}=\\mathrm{a}_{\\mathrm{x}}+\\beta\\left(\\mathrm{b}_{\\mathrm{x}}-\\mathrm{a}_{\\mathrm{x}}\\right)+\\gamma\\left(\\mathrm{c}_{\\mathrm{x}}-\\mathrm{a}_{\\mathrm{x}}\\right)} \\\\ {\\mathrm{R}_{\\mathrm{oy}}+\\mathrm{tR}_{\\mathrm{dy}}=\\mathrm{a}_{\\mathrm{y}}+\\beta\\left(\\mathrm{b}_{\\mathrm{y}}-\\mathrm{a}_{\\mathrm{y}}\\right)+\\gamma\\left(\\mathrm{c}_{\\mathrm{y}}-\\mathrm{a}_{\\mathrm{y}}\\right)} \\\\ {\\mathrm{R}_{\\mathrm{oz}}+\\mathrm{tR}_{\\mathrm{dz}}=\\mathrm{a}_{\\mathrm{z}}+\\beta\\left(\\mathrm{b}_{\\mathrm{z}}-\\mathrm{a}_{\\mathrm{z}}\\right)+\\gamma\\left(\\mathrm{c}_{\\mathrm{z}}-\\mathrm{a}_{\\mathrm{z}}\\right)}\\end{array}\n",
    "$$\n",
    "\n",
    "Regroup and write in matrix form $\\mathbf{A} \\mathbf{x}=\\mathbf{b}\\left(=>\\mathbf{x}=\\mathbf{A}^{-1} \\mathbf{b}\\right)$:\n",
    "\n",
    "$$\n",
    "\\left[ \\begin{array}{lll}{a_{x}-b_{x}} & {a_{x}-c_{x}} & {R_{d x}} \\\\ {a_{y}-b_{y}} & {a_{y}-c_{y}} & {R_{d y}} \\\\ {a_{z}-b_{z}} & {a_{z}-c_{z}} & {R_{d z}}\\end{array}\\right] \\left[ \\begin{array}{c}{\\beta} \\\\ {\\gamma} \\\\ {t}\\end{array}\\right]=\\left[ \\begin{array}{c}{a_{x}-R_{o x}} \\\\ {a_{y}-R_{o y}} \\\\ {a_{z}-R_{o z}}\\end{array}\\right]\n",
    "$$\n",
    "\n",
    "We can solve the system by:\n",
    "\n",
    "- inverting the matrix  by brute force (OK for 3x3), or\n",
    "- use Cramer's rule\n",
    "\n",
    "In the end, all triangle intersection algorithms have to perform these computations. Differences lie in what parts they precompute, and in which order they check for early-outs."
   ]
  },
  {
   "cell_type": "markdown",
   "metadata": {
    "toc-hr-collapsed": false
   },
   "source": [
    "#### Solving $Ax = b$ wich Cramer's rule\n",
    "Cramer's rule is used for solving one variable at a time in system of equations.\n",
    "\n",
    "$$\n",
    "\\mathbf{\\beta} = \\frac{\n",
    "\\left| \\begin{array}{lll}{a_{x}-R_{o x}} & {a_{x}-c_{x}} & {R_{d x}} \\\\ {a_{y}-R_{o y}} & {a_{y}-c_{y}} & {R_{d y}} \\\\ {a_{z}-R_{o z}} & {a_{z}-c_{z}} & {R_{d z}}\\end{array}\\right|\n",
    "}{\n",
    "|A|\n",
    "}\n",
    "$$\n",
    "\n",
    "$$\n",
    "\\mathbf{\\gamma} = \\frac{\n",
    "\\left| \\begin{array}{lll}{a_{x}-b_{x}} & {a_{x}-R_{o x}} & {R_{d x}} \\\\ {a_{y}-b_{y}} & {a_{y}-R_{o y}} & {R_{d y}} \\\\ {a_{z}-b_{z}} & {a_{z}-R_{o z}} & {R_{d z}}\\end{array}\\right|\n",
    "}{\n",
    "|A|\n",
    "}\n",
    "$$\n",
    "\n",
    "\n",
    "\n",
    "$$\n",
    "t = \\frac{\n",
    "\\left| \\begin{array}{lll}{a_{x}-b_{x}} & {a_{x}-c_{x}} & {a_{x}-R_{o x}} \\\\ {a_{y}-b_{y}} & {a_{y}-c_{y}} & {a_{y}-R_{o y}} \\\\ {a_{z}-b_{z}} & {a_{z}-c_{z}} & {a_{z}-R_{o z}}\\end{array}\\right|\n",
    "}{\n",
    "|A|\n",
    "}\n",
    "$$\n",
    "\n",
    "**NOTE**: $| v |$ denotes the determinant."
   ]
  },
  {
   "cell_type": "markdown",
   "metadata": {
    "toc-hr-collapsed": false
   },
   "source": [
    "#### Barycentric intersection Pros\n",
    "- efficient\n",
    "- stores no plane equation\n",
    "- get the barycentric coordinates for free. \n",
    "    - useful for interpolation and texture mapping."
   ]
  },
  {
   "cell_type": "markdown",
   "metadata": {
    "toc-hr-collapsed": false
   },
   "source": [
    "#### Barycentric interpolation\n",
    "- Values $v_1, v_2, v_3$ defined at **a, b, c**; colors, normal, texture coordinates, etc.\n",
    "- $\\mathbf{P}(\\alpha, \\beta, \\gamma)=\\alpha \\mathbf{a}+\\beta \\mathbf{b}+\\gamma \\mathbf{c}$ is the point\n",
    "- $\\mathrm{v}(\\alpha, \\beta, \\gamma)=\\alpha \\mathrm{v}_{1}+\\beta \\mathrm{v}_{2}+\\gamma \\mathrm{v}_{3}$ is the barycentric interpolation of $v_1, v_2, v_3$ at point $\\mathbf{P}$\n",
    "\n",
    "Hence, once you know $\\alpha, \\beta, \\gamma$, you can interpolate values using the same weights!\n",
    "\n",
    "![barycentric3](images/barycentric3.png)"
   ]
  },
  {
   "cell_type": "markdown",
   "metadata": {
    "toc-hr-collapsed": false
   },
   "source": [
    "## Constructive Solid Geometry(CSG)\n",
    "It's a neat way to build complex objects from simple parts using boolean operations. It's very easy when ray tracing but not so easy when not using ray tracing.\n",
    "\n",
    "### How can we implement CSG?\n",
    "![csg1](images/csg1.png)\n",
    "\n",
    "\n",
    "![csg2](images/csg2.png)\n",
    "\n",
    "In princible, CSG is simple but *floating point numbers are not exact*:\n",
    "- e.g. points do not lie exactly on planes\n",
    "- computing the intersection A vs. B is not necessarily the same as B vs. A\n",
    "- line that results from intersecting two planes does not necessarily lie on either plane."
   ]
  },
  {
   "cell_type": "markdown",
   "metadata": {
    "toc-hr-collapsed": false
   },
   "source": [
    "####\n",
    "![](images/.png)\n",
    "\n",
    "####\n",
    "![](images/.png)\n",
    "\n",
    "####\n",
    "![](images/.png)\n",
    "\n",
    "####\n",
    "![](images/.png)\n",
    "\n",
    "####\n",
    "![](images/.png)\n",
    "\n",
    "\n",
    "\n",
    "### \n",
    "\n",
    "### \n",
    "\n",
    "### \n",
    "\n",
    "### "
   ]
  },
  {
   "cell_type": "code",
   "execution_count": null,
   "metadata": {},
   "outputs": [],
   "source": []
  }
 ],
 "metadata": {
  "kernelspec": {
   "display_name": "Python 3",
   "language": "python",
   "name": "python3"
  },
  "language_info": {
   "codemirror_mode": {
    "name": "ipython",
    "version": 3
   },
   "file_extension": ".py",
   "mimetype": "text/x-python",
   "name": "python",
   "nbconvert_exporter": "python",
   "pygments_lexer": "ipython3",
   "version": "3.6.8"
  },
  "toc-autonumbering": true,
  "toc-showcode": false,
  "toc-showmarkdowntxt": false
 },
 "nbformat": 4,
 "nbformat_minor": 2
}
